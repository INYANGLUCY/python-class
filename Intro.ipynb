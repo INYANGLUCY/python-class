{
 "cells": [
  {
   "cell_type": "code",
   "execution_count": 1,
   "metadata": {},
   "outputs": [
    {
     "data": {
      "text/plain": [
       "2"
      ]
     },
     "execution_count": 1,
     "metadata": {},
     "output_type": "execute_result"
    }
   ],
   "source": [
    "1 + 1"
   ]
  },
  {
   "cell_type": "code",
   "execution_count": 9,
   "metadata": {},
   "outputs": [
    {
     "name": "stdout",
     "output_type": "stream",
     "text": [
      "Hello World\n"
     ]
    }
   ],
   "source": [
    "# FIRST PRINT \n",
    "print(\"Hello World\")"
   ]
  },
  {
   "cell_type": "code",
   "execution_count": 7,
   "metadata": {},
   "outputs": [
    {
     "data": {
      "text/plain": [
       "True"
      ]
     },
     "execution_count": 7,
     "metadata": {},
     "output_type": "execute_result"
    }
   ],
   "source": [
    "20 > 3"
   ]
  },
  {
   "cell_type": "code",
   "execution_count": 1,
   "metadata": {},
   "outputs": [
    {
     "name": "stdout",
     "output_type": "stream",
     "text": [
      "50\n"
     ]
    }
   ],
   "source": [
    "# addition\n",
    "num1=20\n",
    "num2=30\n",
    "sum=num1+num2\n",
    "print(sum)"
   ]
  },
  {
   "cell_type": "code",
   "execution_count": 2,
   "metadata": {},
   "outputs": [
    {
     "name": "stdout",
     "output_type": "stream",
     "text": [
      "25\n"
     ]
    }
   ],
   "source": [
    "# Exponential\n",
    "x=5\n",
    "exp=x**2\n",
    "print(exp)"
   ]
  },
  {
   "cell_type": "code",
   "execution_count": 3,
   "metadata": {},
   "outputs": [
    {
     "name": "stdout",
     "output_type": "stream",
     "text": [
      "144\n"
     ]
    }
   ],
   "source": [
    "# addition and exponential\n",
    "num1=3\n",
    "num2=9\n",
    "sum=num1+num2\n",
    "exp=sum**2\n",
    "print(exp)"
   ]
  },
  {
   "cell_type": "code",
   "execution_count": 4,
   "metadata": {},
   "outputs": [
    {
     "name": "stdout",
     "output_type": "stream",
     "text": [
      "1296\n"
     ]
    }
   ],
   "source": [
    "# practice\n",
    "num1=1\n",
    "num2=0\n",
    "num3=5\n",
    "sum=num1+num2+num3\n",
    "exp=sum**4\n",
    "print(exp)"
   ]
  },
  {
   "cell_type": "code",
   "execution_count": 5,
   "metadata": {},
   "outputs": [
    {
     "name": "stdout",
     "output_type": "stream",
     "text": [
      "0.42857142857142855\n"
     ]
    }
   ],
   "source": [
    "#float division\n",
    "a=3\n",
    "b=7\n",
    "div=a/b\n",
    "print(div)"
   ]
  },
  {
   "cell_type": "code",
   "execution_count": 6,
   "metadata": {},
   "outputs": [
    {
     "name": "stdout",
     "output_type": "stream",
     "text": [
      "8.0\n"
     ]
    }
   ],
   "source": [
    "# to do\n",
    "a=3\n",
    "b=5\n",
    "c=2\n",
    "sum=a+b\n",
    "div=sum/c\n",
    "exp=div**1.5\n",
    "print(exp)"
   ]
  },
  {
   "cell_type": "code",
   "execution_count": 7,
   "metadata": {},
   "outputs": [
    {
     "name": "stdout",
     "output_type": "stream",
     "text": [
      "2 is not greater than 3\n"
     ]
    }
   ],
   "source": [
    "#conditional statement \n",
    "if 2>3:\n",
    "    print(\"2 is greater than 3\")\n",
    "else:\n",
    "    print(\"2 is not greater than 3\")    "
   ]
  },
  {
   "cell_type": "code",
   "execution_count": 9,
   "metadata": {},
   "outputs": [
    {
     "name": "stdout",
     "output_type": "stream",
     "text": [
      "5 is not less than 4.5\n"
     ]
    }
   ],
   "source": [
    "if 5<4.5:\n",
    "    print(\"5 is less than 4.5\")\n",
    "else:\n",
    "    print(\"5 is not less than 4.5\")    "
   ]
  },
  {
   "cell_type": "code",
   "execution_count": 10,
   "metadata": {},
   "outputs": [
    {
     "name": "stdout",
     "output_type": "stream",
     "text": [
      "false\n"
     ]
    }
   ],
   "source": [
    "if 10>=15:\n",
    "    print(\"true\")\n",
    "else:\n",
    "    print(\"false\")    "
   ]
  },
  {
   "cell_type": "code",
   "execution_count": 11,
   "metadata": {},
   "outputs": [
    {
     "data": {
      "text/plain": [
       "True"
      ]
     },
     "execution_count": 11,
     "metadata": {},
     "output_type": "execute_result"
    }
   ],
   "source": [
    "#logical operators\n",
    "2>=1 and 3<=5"
   ]
  },
  {
   "cell_type": "code",
   "execution_count": 12,
   "metadata": {},
   "outputs": [
    {
     "data": {
      "text/plain": [
       "True"
      ]
     },
     "execution_count": 12,
     "metadata": {},
     "output_type": "execute_result"
    }
   ],
   "source": [
    "20<=10 or 3<7"
   ]
  },
  {
   "cell_type": "code",
   "execution_count": 13,
   "metadata": {},
   "outputs": [
    {
     "data": {
      "text/plain": [
       "'this value doesnt exist'"
      ]
     },
     "execution_count": 13,
     "metadata": {},
     "output_type": "execute_result"
    }
   ],
   "source": [
    "#tenary usage\n",
    "my_name=\"lucy\"\n",
    "\"this value exist\" if\"K\"in my_name else \"this value doesnt exist\""
   ]
  },
  {
   "cell_type": "code",
   "execution_count": 14,
   "metadata": {},
   "outputs": [
    {
     "data": {
      "text/plain": [
       "True"
      ]
     },
     "execution_count": 14,
     "metadata": {},
     "output_type": "execute_result"
    }
   ],
   "source": [
    "#inclusion\n",
    "myName=\"lucy\"\n",
    "\"u\" in myName"
   ]
  },
  {
   "cell_type": "code",
   "execution_count": 1,
   "metadata": {},
   "outputs": [
    {
     "name": "stdout",
     "output_type": "stream",
     "text": [
      "2.4 is less than and equals to 4\n"
     ]
    }
   ],
   "source": [
    "#arthimetic operators\n",
    "if 2.4<=4:\n",
    "    print(\"2.4 is less than and equals to 4\")\n",
    "else:\n",
    "    print(\"2.4 is not less than and not equals to 4\")    "
   ]
  },
  {
   "cell_type": "code",
   "execution_count": 2,
   "metadata": {},
   "outputs": [
    {
     "name": "stdout",
     "output_type": "stream",
     "text": [
      "5 is equals to 5.1\n"
     ]
    }
   ],
   "source": [
    "if 5!=5.1:\n",
    "    print(\"5 is equals to 5.1\")\n",
    "else:\n",
    "    print(\"5 is not equals to 5.1\")   \n"
   ]
  },
  {
   "cell_type": "code",
   "execution_count": 3,
   "metadata": {},
   "outputs": [
    {
     "name": "stdout",
     "output_type": "stream",
     "text": [
      "100 is not equals to 200\n"
     ]
    }
   ],
   "source": [
    "if 100== 200:\n",
    "    print(\"100 is quals to 200\")\n",
    "else:\n",
    "    print(\"100 is not equals to 200\")"
   ]
  },
  {
   "cell_type": "code",
   "execution_count": 5,
   "metadata": {},
   "outputs": [
    {
     "data": {
      "text/plain": [
       "False"
      ]
     },
     "execution_count": 5,
     "metadata": {},
     "output_type": "execute_result"
    }
   ],
   "source": [
    "#not\n",
    "my_name=\"lucy\"\n",
    "\"u\" not in my_name\n"
   ]
  },
  {
   "cell_type": "code",
   "execution_count": 9,
   "metadata": {},
   "outputs": [
    {
     "name": "stdout",
     "output_type": "stream",
     "text": [
      "original string: 123\n",
      "casted string: 123\n"
     ]
    }
   ],
   "source": [
    "# converting from string to int\n",
    "num_string=\"123\"\n",
    "num_int=int(num_string)\n",
    "print(\"original string:\",num_string)\n",
    "print(\"casted string:\",num_int)"
   ]
  },
  {
   "cell_type": "code",
   "execution_count": 10,
   "metadata": {},
   "outputs": [
    {
     "name": "stdout",
     "output_type": "stream",
     "text": [
      "orginal float: 3.14\n",
      "casted float: 3\n"
     ]
    }
   ],
   "source": [
    "#CONVERTING FLOAT TO INT\n",
    "num_float=3.14\n",
    "num_int=int(num_float)\n",
    "print(\"orginal float:\",num_float)\n",
    "print(\"casted float:\",num_int)"
   ]
  },
  {
   "cell_type": "code",
   "execution_count": 11,
   "metadata": {},
   "outputs": [
    {
     "data": {
      "text/plain": [
       "str"
      ]
     },
     "execution_count": 11,
     "metadata": {},
     "output_type": "execute_result"
    }
   ],
   "source": [
    "#how to find the data type(python built in function)\n",
    "a=\"samuel\"\n",
    "type(a)"
   ]
  },
  {
   "cell_type": "code",
   "execution_count": 14,
   "metadata": {},
   "outputs": [
    {
     "name": "stdout",
     "output_type": "stream",
     "text": [
      "hello, lucy!\n"
     ]
    }
   ],
   "source": [
    "#inputting\n",
    "name=input(\"what is your name?\")\n",
    "print(\"hello,\", name+\"!\")"
   ]
  },
  {
   "cell_type": "code",
   "execution_count": 15,
   "metadata": {},
   "outputs": [
    {
     "name": "stdout",
     "output_type": "stream",
     "text": [
      "hello, vinny!\n"
     ]
    }
   ],
   "source": [
    "name=input(\"what is your name?\")\n",
    "print(\"hello,\",name + \"!\")"
   ]
  },
  {
   "cell_type": "code",
   "execution_count": 17,
   "metadata": {},
   "outputs": [
    {
     "name": "stdout",
     "output_type": "stream",
     "text": [
      "85\n"
     ]
    }
   ],
   "source": [
    "#ADDITION USING INPUT()\n",
    "num1=int(input(\"enter first number\"))\n",
    "num2=int(input(\"enter second number\"))\n",
    "sum=num1+num2\n",
    "print(sum)"
   ]
  },
  {
   "cell_type": "code",
   "execution_count": 23,
   "metadata": {},
   "outputs": [
    {
     "name": "stdout",
     "output_type": "stream",
     "text": [
      "27.0\n"
     ]
    }
   ],
   "source": [
    "#adding 3 numbers and dividing by 5,square the result raised to the power 1.5\n",
    "num1=int(input(\"enter first number\"))\n",
    "num2=int(input(\"enter second number\"))\n",
    "num3=int(input(\"enter third number\"))\n",
    "sum=num1+num2+num3\n",
    "div=sum/5\n",
    "exp=div**1.5\n",
    "print(exp)"
   ]
  },
  {
   "cell_type": "code",
   "execution_count": 25,
   "metadata": {},
   "outputs": [
    {
     "name": "stdout",
     "output_type": "stream",
     "text": [
      "my name is brenda and i am 23years old\n"
     ]
    }
   ],
   "source": [
    "#storing a string in a variable\n",
    "name=\"brenda\"\n",
    "age=23\n",
    "message=f\"my name is {name} and i am {age}years old\"\n",
    "print(message)\n"
   ]
  },
  {
   "cell_type": "code",
   "execution_count": 27,
   "metadata": {},
   "outputs": [
    {
     "name": "stdout",
     "output_type": "stream",
     "text": [
      "my name is vinny and i am 23 years old\n"
     ]
    }
   ],
   "source": [
    "#direct formatting\n",
    "name=\"vinny\"\n",
    "age=23\n",
    "print(f\"my name is {name} and i am {age} years old\")"
   ]
  },
  {
   "cell_type": "code",
   "execution_count": 5,
   "metadata": {},
   "outputs": [
    {
     "name": "stdout",
     "output_type": "stream",
     "text": [
      "82.0\n",
      "the result is 45212176.0\n"
     ]
    }
   ],
   "source": [
    "#assignment\n",
    "#a=10,b=7,c=6,exp=4\n",
    "#a,b,c was first multiplied then subtracted from 10 then divided by 5\n",
    "#then i chose the exp to be 4,it was inputed then the total resulted was formatted \n",
    "a=int(input())\n",
    "b=int(input())\n",
    "c=int(input())\n",
    "mul=a*b*c\n",
    "diff=mul-10\n",
    "div=diff/5\n",
    "print(div)\n",
    "\n",
    "exp=int(input())\n",
    "expp=div**exp\n",
    "formatted_result=\"f the result is {expp}\"\n",
    "print(f\"the result is {expp}\")"
   ]
  },
  {
   "cell_type": "code",
   "execution_count": 1,
   "metadata": {},
   "outputs": [
    {
     "name": "stdout",
     "output_type": "stream",
     "text": [
      "my name is lucy  williams\n"
     ]
    }
   ],
   "source": [
    "#concatentation\n",
    "first_name=\"lucy\"\n",
    "last_name=\"  williams\"\n",
    "full_name=first_name+last_name\n",
    "print(f\"my name is {full_name}\")"
   ]
  },
  {
   "cell_type": "code",
   "execution_count": 3,
   "metadata": {},
   "outputs": [
    {
     "name": "stdout",
     "output_type": "stream",
     "text": [
      "s\n"
     ]
    }
   ],
   "source": [
    "#immuteable ds(posititve)retrieve\n",
    "name=\"Kingsley\"\n",
    "val=name[4]\n",
    "print(val)"
   ]
  },
  {
   "cell_type": "code",
   "execution_count": 4,
   "metadata": {},
   "outputs": [
    {
     "name": "stdout",
     "output_type": "stream",
     "text": [
      "s\n"
     ]
    }
   ],
   "source": [
    "#immuteable(negative)retrieve\n",
    "name=\"kingsley\"\n",
    "val=name[-4]\n",
    "print(val)"
   ]
  },
  {
   "cell_type": "code",
   "execution_count": 1,
   "metadata": {},
   "outputs": [
    {
     "name": "stdout",
     "output_type": "stream",
     "text": [
      "king\n"
     ]
    }
   ],
   "source": [
    "#strinng slicing(retrieving)\n",
    "name=\"kingsley\"\n",
    "val=name[0:4]\n",
    "print(val)"
   ]
  },
  {
   "cell_type": "code",
   "execution_count": 3,
   "metadata": {},
   "outputs": [
    {
     "name": "stdout",
     "output_type": "stream",
     "text": [
      "king\n"
     ]
    }
   ],
   "source": [
    "#string slicing(negative)\n",
    "name=\"kingsley\"\n",
    "val=name[-8:-4]\n",
    "print(val)"
   ]
  },
  {
   "cell_type": "code",
   "execution_count": 20,
   "metadata": {},
   "outputs": [
    {
     "name": "stdout",
     "output_type": "stream",
     "text": [
      "the first character is I\n",
      "the last character is l\n"
     ]
    }
   ],
   "source": [
    "#retrieve the first and last character\n",
    "me=input(\"\")\n",
    "value=me[0]\n",
    "valuee=me[-1]\n",
    "print(f\"the first character is {value}\\nthe last character is {valuee}\")        \n",
    "\n"
   ]
  },
  {
   "cell_type": "code",
   "execution_count": 24,
   "metadata": {},
   "outputs": [
    {
     "name": "stdout",
     "output_type": "stream",
     "text": [
      "2\n"
     ]
    }
   ],
   "source": [
    "#list(retrievng 2)\n",
    "fruits=[\"guava\",\"orange\",\"mango\"]\n",
    "numbers=[1,2,3,4,5,6]\n",
    "mixed=[\"guava\",1,2,3,\"mango\"]\n",
    "\n",
    "value=mixed[2]\n",
    "print(value)\n",
    "\n"
   ]
  },
  {
   "cell_type": "code",
   "execution_count": 25,
   "metadata": {},
   "outputs": [
    {
     "name": "stdout",
     "output_type": "stream",
     "text": [
      "mango\n"
     ]
    }
   ],
   "source": [
    "#retrieving mango\n",
    "fruits=[\"guava\",\"orange\",'mango']\n",
    "numbers=[1,2,3,4,5,6]\n",
    "mixed=[\"guava\",1,2,3,\"mango\"]\n",
    "value=mixed[4]\n",
    "print(value)\n"
   ]
  },
  {
   "cell_type": "code",
   "execution_count": 32,
   "metadata": {},
   "outputs": [
    {
     "name": "stdout",
     "output_type": "stream",
     "text": [
      "['mango', 'guava', [5], 6, 'orange']\n",
      "[5]\n",
      "5\n"
     ]
    }
   ],
   "source": [
    "fruits=[\"guava\",\"orange\",'mango']\n",
    "numbers=[1,2,3,4,5,6]\n",
    "mixed=[1,2,3,[\"mango\",\"guava\",[5],6,\"orange\"]]\n",
    "a=mixed[3]\n",
    "print(a)\n",
    "b=a[2]\n",
    "print(b)\n",
    "c=b[0]\n",
    "print(c)"
   ]
  },
  {
   "cell_type": "code",
   "execution_count": 2,
   "metadata": {},
   "outputs": [
    {
     "name": "stdout",
     "output_type": "stream",
     "text": [
      "[1, 3, 6, 7, 8]\n"
     ]
    }
   ],
   "source": [
    "#updating a table(totally erases the number in the selected index position with the new one)\n",
    "l=[1,3,4,7,8]\n",
    "l[2]=6\n",
    "print(l)"
   ]
  },
  {
   "cell_type": "code",
   "execution_count": 4,
   "metadata": {},
   "outputs": [
    {
     "name": "stdout",
     "output_type": "stream",
     "text": [
      "[1, 3, 4, 7, 8, 10]\n",
      "[1, 3, 7, 4, 7, 8, 10]\n"
     ]
    }
   ],
   "source": [
    "l=[1,3,4,7,8]\n",
    "l.append(10)\n",
    "print(l)\n",
    "#insert doesnt delete any number,it just adds to the list\n",
    "l.insert(2,7)\n",
    "print(l)"
   ]
  },
  {
   "cell_type": "code",
   "execution_count": 5,
   "metadata": {},
   "outputs": [
    {
     "name": "stdout",
     "output_type": "stream",
     "text": [
      "[[1, 2], [3, 4]]\n"
     ]
    }
   ],
   "source": [
    "#updating [5,6] to[1,2]\n",
    "nested_list=[[5,6],[3,4]]\n",
    "a=nested_list[0]=[1,2]\n",
    "print(nested_list)"
   ]
  },
  {
   "cell_type": "code",
   "execution_count": 8,
   "metadata": {},
   "outputs": [
    {
     "name": "stdout",
     "output_type": "stream",
     "text": [
      "[[5, 6], [7, 11]]\n"
     ]
    }
   ],
   "source": [
    "#updating and retrieving\n",
    "nested_list=[[5,6],[3,4]]\n",
    "a=nested_list[1]\n",
    "a[0]=7\n",
    "a[1]=11\n",
    "print(nested_list)"
   ]
  },
  {
   "cell_type": "code",
   "execution_count": 10,
   "metadata": {},
   "outputs": [
    {
     "name": "stdout",
     "output_type": "stream",
     "text": [
      "[3, 4, 5, 6, 7, 8, 9, 10]\n"
     ]
    }
   ],
   "source": [
    "#.extend() adds to the back\n",
    "l=[3,4,5]\n",
    "l.extend([6,7,8,9,10])\n",
    "print(l)"
   ]
  },
  {
   "cell_type": "code",
   "execution_count": 14,
   "metadata": {},
   "outputs": [
    {
     "name": "stdout",
     "output_type": "stream",
     "text": [
      "mango\n",
      "['guava', 'orange']\n",
      "['mango', 'guava', 'orange']\n"
     ]
    }
   ],
   "source": [
    "#deleting list\n",
    "fruits=[\"mango\",\"guava\",\"orange\"]\n",
    "removed_item=fruits.pop(0)\n",
    "print(removed_item)\n",
    "print(fruits)\n",
    "\n",
    "#retrieved the deleted item\n",
    "fruits.insert(0,removed_item)\n",
    "print(fruits)"
   ]
  },
  {
   "cell_type": "code",
   "execution_count": 16,
   "metadata": {},
   "outputs": [
    {
     "name": "stdout",
     "output_type": "stream",
     "text": [
      "['mango', 'guava', 'udara', 'pineapple', 'orange']\n"
     ]
    }
   ],
   "source": [
    "#using del key word\n",
    "fruits=[\"mango\",\"guava\",\"apple\",\"udara\",\"pineapple\",\"orange\"]\n",
    "del fruits[2]\n",
    "print(fruits)\n"
   ]
  },
  {
   "cell_type": "code",
   "execution_count": 21,
   "metadata": {},
   "outputs": [
    {
     "name": "stdout",
     "output_type": "stream",
     "text": [
      "['guava', 'apple', 'udara', 'pineapple', 'orange', 'mango']\n"
     ]
    }
   ],
   "source": [
    "fruits=[\"mango\",\"guava\",\"apple\",\"udara\",\"pineapple\",\"orange\",\"mango\"]\n",
    "fruits.remove(\"mango\")\n",
    "print(fruits)"
   ]
  },
  {
   "cell_type": "code",
   "execution_count": 23,
   "metadata": {},
   "outputs": [
    {
     "name": "stdout",
     "output_type": "stream",
     "text": [
      "20\n",
      "kate\n"
     ]
    }
   ],
   "source": [
    "#dictionaries\n",
    "student={\"name\":\"kate\",\"age\":20,\"grade\":\"A\"}\n",
    "new=student[\"age\"]\n",
    "print(new)\n",
    "\n",
    "#using .get\n",
    "new=student[\"name\"]\n",
    "print(new)"
   ]
  },
  {
   "cell_type": "code",
   "execution_count": 29,
   "metadata": {},
   "outputs": [
    {
     "name": "stdout",
     "output_type": "stream",
     "text": [
      "{'name': 'kate', 'age': 21, 'grade': 'A'}\n",
      "{'name': 'kate', 'age': 21, 'grade': 'C'}\n",
      "{'name': 'kate', 'age': 21, 'grade': 'C', 'subject': 'math'}\n",
      "{'name': 'kate', 'age': 21, 'subject': 'math'}\n"
     ]
    }
   ],
   "source": [
    "# updating dictionaries\n",
    "student={\"name\":\"kate\",\"age\":20,\"grade\":\"A\"}\n",
    "student[\"age\"]=21\n",
    "print(student)\n",
    "\n",
    "student[\"grade\"]=\"C\"\n",
    "print(student)\n",
    "#ADDING A NEW KEY AND VALUE\n",
    "student[\"subject\"]=\"math\"\n",
    "print(student)\n",
    "#deleting using. pop()\n",
    "\n",
    "grade=student.pop(\"grade\")\n",
    "print(student)"
   ]
  },
  {
   "cell_type": "code",
   "execution_count": 1,
   "metadata": {},
   "outputs": [
    {
     "name": "stdout",
     "output_type": "stream",
     "text": [
      "[1, 2, 3, 4, ['i', 'boy', 'a', 'am', [80, 100, 90]]]\n",
      "[1, 2, 3, 4, ['i', 'am', 'a', 'boy', [80, 90, 100]]]\n"
     ]
    }
   ],
   "source": [
    "#assignment\n",
    "L=[1,3,2,4,[\"i\",\"boy\",\"a\",\"am\",[80,100,90]]]\n",
    "L[0]=1\n",
    "L[1]=2\n",
    "L[2]=3\n",
    "L[3]=4\n",
    "print(L)\n",
    "a=L[4]\n",
    "a[0]=\"i\"\n",
    "a[1]=\"am\"\n",
    "a[2]=\"a\"\n",
    "a[3]='boy'\n",
    "a[4]=[80,90,100]\n",
    "print(L)\n"
   ]
  },
  {
   "cell_type": "code",
   "execution_count": 9,
   "metadata": {},
   "outputs": [
    {
     "name": "stdout",
     "output_type": "stream",
     "text": [
      "{'Godwin': [{'Hobbies': ['running', 'singing', 'dancing']}]}\n"
     ]
    }
   ],
   "source": [
    "#assignment2\n",
    "my_dict={\"Godwin\":[{\"Hobbies\":[\"singing\",\"dancing\",\"running\"]}]}\n",
    "Godwin=my_dict[\"Godwin\"][0]\n",
    "Godwin[\"Hobbies\"][0]=\"running\"\n",
    "Godwin[\"Hobbies\"][1]=\"singing\"\n",
    "Godwin[\"Hobbies\"][2]=\"dancing\"\n",
    "print(my_dict)"
   ]
  },
  {
   "cell_type": "code",
   "execution_count": 10,
   "metadata": {},
   "outputs": [
    {
     "name": "stdout",
     "output_type": "stream",
     "text": [
      "orange\n"
     ]
    }
   ],
   "source": [
    "#TUPLE\n",
    "fruits=(\"apple\",\"banana\",\"orange\")\n",
    "new=fruits[2]\n",
    "print(new)"
   ]
  },
  {
   "cell_type": "code",
   "execution_count": 14,
   "metadata": {},
   "outputs": [
    {
     "name": "stdout",
     "output_type": "stream",
     "text": [
      "('apple', 'banana')\n",
      "apple\n",
      "banana\n",
      "orange pineapple cherry\n"
     ]
    }
   ],
   "source": [
    "#slicing in tuple\n",
    "fruits=(\"apple\",\"banana\",\"orange\")\n",
    "slice=fruits[0:2]\n",
    "print(slice)\n",
    "\n",
    "#creating a variable for each fruit(UNPACKING IN TUPLE)\n",
    "fruits=(\"apple\",\"banana\",\"orange\",\"pineapple\",\"cherry\")\n",
    "first_fruit,second_fruit,*other_fruits=fruits\n",
    "print(first_fruit)\n",
    "print(second_fruit)\n",
    "print(*other_fruits)\n",
    "\n"
   ]
  },
  {
   "cell_type": "code",
   "execution_count": 19,
   "metadata": {},
   "outputs": [
    {
     "name": "stdout",
     "output_type": "stream",
     "text": [
      "{1, 2, 3, 4}\n",
      "{1, 2, 3, 4, 5}\n",
      "{1, 2, 3, 4}\n"
     ]
    }
   ],
   "source": [
    "#SETS\n",
    "num={1,2,3,4,1,2,3}\n",
    "print(num)\n",
    "#adding 5 to the set\n",
    "num.add(5)\n",
    "print(num)\n",
    "#removing 5 from set\n",
    "num.discard(5)\n",
    "print(num)"
   ]
  },
  {
   "cell_type": "code",
   "execution_count": 21,
   "metadata": {},
   "outputs": [
    {
     "name": "stdout",
     "output_type": "stream",
     "text": [
      "{1, 2, 3, 4, 5, 6, 7, 8}\n"
     ]
    }
   ],
   "source": [
    "#union\n",
    "set1={1,2,3}\n",
    "set2={3,4,5}\n",
    "set3={4,5,6,7,8}\n",
    "union=set1.union(set2,set3)\n",
    "print(union)"
   ]
  },
  {
   "cell_type": "code",
   "execution_count": 22,
   "metadata": {},
   "outputs": [
    {
     "name": "stdout",
     "output_type": "stream",
     "text": [
      "{3}\n"
     ]
    }
   ],
   "source": [
    "#intersection\n",
    "set1={1,2,3}\n",
    "set2={3,4,5}\n",
    "intersection=set1.intersection(set2)\n",
    "print(intersection)"
   ]
  },
  {
   "cell_type": "code",
   "execution_count": 29,
   "metadata": {},
   "outputs": [
    {
     "name": "stdout",
     "output_type": "stream",
     "text": [
      "{1, 2}\n"
     ]
    }
   ],
   "source": [
    "#disjoint\n",
    "set1={1,2,3}\n",
    "set2={3,4,5}\n",
    "disjoint=set1.difference(set2)\n",
    "print(disjoint)\n"
   ]
  },
  {
   "cell_type": "code",
   "execution_count": 28,
   "metadata": {},
   "outputs": [
    {
     "name": "stdout",
     "output_type": "stream",
     "text": [
      "{1, 2, 4, 5}\n"
     ]
    }
   ],
   "source": [
    "#checking the difference in 2 set\n",
    "set1={1,2,3}\n",
    "set2={3,4,5}\n",
    "difference=set1.symmetric_difference(set2)\n",
    "print(difference)"
   ]
  },
  {
   "cell_type": "code",
   "execution_count": 31,
   "metadata": {},
   "outputs": [
    {
     "name": "stdout",
     "output_type": "stream",
     "text": [
      "this is true\n"
     ]
    }
   ],
   "source": [
    "#CONTROLFLOW-CONDITONAL STATEMENT\n",
    "x=5\n",
    "if x>0:\n",
    "    print(\"this is true\")\n",
    "elif x<0:\n",
    "    print(\"this is false\")\n",
    "else:\n",
    "    print(\"x is zero\")    "
   ]
  },
  {
   "cell_type": "code",
   "execution_count": 42,
   "metadata": {},
   "outputs": [
    {
     "name": "stdout",
     "output_type": "stream",
     "text": [
      "Not Allowed\n"
     ]
    }
   ],
   "source": [
    "#beach party event accepting guest from age 18-30\n",
    "x=18-30\n",
    "x=int(input())\n",
    "if x<=18:\n",
    "    print(\"Not Allowed\")\n",
    "elif x>=30:\n",
    "    print(\"GO home\")\n",
    "else:\n",
    "    print(\"enter\")        "
   ]
  },
  {
   "cell_type": "code",
   "execution_count": 65,
   "metadata": {},
   "outputs": [
    {
     "name": "stdout",
     "output_type": "stream",
     "text": [
      "UBA\n"
     ]
    }
   ],
   "source": [
    "#bank program)\n",
    "pin=1236\n",
    "bankpin=int(input())\n",
    "UBA={\"first_name\":\"vee\",\"last_name\":\"jude\",\"bank_name\":\"vee_jude\",\"account_no\":22341,\"balance\":234567}\n",
    "if bankpin == pin:\n",
    "    print(\"UBA\")\n",
    "elif bankpin !=pin:\n",
    "    print(\"Not UBA\")   \n",
    "else:\n",
    "    print(\"not user\")"
   ]
  },
  {
   "cell_type": "code",
   "execution_count": 3,
   "metadata": {},
   "outputs": [
    {
     "name": "stdout",
     "output_type": "stream",
     "text": [
      "{'first_name': 'jacob', 'last-name': 'will', 'score': 45, 'grade': 'd'}\n"
     ]
    }
   ],
   "source": [
    "#assignment\n",
    "user1={'first_name':\"jeremy\", 'last_name':\"jon\",'score':50,'grade':\"c\"}\n",
    "user2={'first_name':\"lawerence\",'last_name':\"daniel\",'score':70,'grade':\"b\"}\n",
    "user3={'first_name':\"jennifer\",'last_name':\"usor\",'score':85,'grade':\"a\"}\n",
    "user4={'first_name':\"lezley\",'last_name':\"stone\",'score':90,'grade':\"a\"}\n",
    "user5={'first_name':\"jacob\",'last-name':\"will\",'score':45,'grade':\"d\"}\n",
    "information=input(\"\")\n",
    "if information==\"jacob\":\n",
    "    print(user5)\n",
    "elif information==\"jeremy\" :\n",
    "    print(user1) \n",
    "elif information==\"lezley\":\n",
    "    print(user4) \n",
    "elif information==\"jennifer\":\n",
    "    print(user3)\n",
    "else:\n",
    "    print(\"not user\")        \n"
   ]
  },
  {
   "cell_type": "code",
   "execution_count": 6,
   "metadata": {},
   "outputs": [
    {
     "name": "stdout",
     "output_type": "stream",
     "text": [
      "L\n",
      "U\n",
      "C\n",
      "Y\n"
     ]
    }
   ],
   "source": [
    "#looping\n",
    "my_name=\"lucy\"\n",
    "for me in my_name:\n",
    "  still_me=me.capitalize()\n",
    "  print(still_me)"
   ]
  },
  {
   "cell_type": "code",
   "execution_count": 11,
   "metadata": {},
   "outputs": [
    {
     "name": "stdout",
     "output_type": "stream",
     "text": [
      "LUCY\n"
     ]
    }
   ],
   "source": [
    "#for loop in string\n",
    "my_name=\"lucy\"\n",
    "empty_list=[]\n",
    "for me in my_name:\n",
    "    still_me=me.capitalize()\n",
    "    empty_list.append(still_me)\n",
    "corrected_str=\"\".join(empty_list)   #used to join only string \n",
    "print(corrected_str)"
   ]
  },
  {
   "cell_type": "code",
   "execution_count": 18,
   "metadata": {},
   "outputs": [
    {
     "name": "stdout",
     "output_type": "stream",
     "text": [
      "[9, 36, 49, 4, 64]\n"
     ]
    }
   ],
   "source": [
    "#for loop in int\n",
    "num=[3,6,7,2,8]\n",
    "empty_list=[]\n",
    "for numbers in num:\n",
    "    still_num=numbers**2\n",
    "    empty_list.append(still_num)   #or empty_list+append(still_num)\n",
    "print(empty_list)\n"
   ]
  },
  {
   "cell_type": "code",
   "execution_count": 20,
   "metadata": {},
   "outputs": [
    {
     "name": "stdout",
     "output_type": "stream",
     "text": [
      "1\n",
      "2\n",
      "3\n",
      "4\n",
      "5\n"
     ]
    }
   ],
   "source": [
    "#while loop\n",
    "count=1\n",
    "while count<=5:\n",
    "    print(count)\n",
    "    count +=1"
   ]
  },
  {
   "cell_type": "code",
   "execution_count": 21,
   "metadata": {},
   "outputs": [
    {
     "name": "stdout",
     "output_type": "stream",
     "text": [
      "5\n",
      "4\n",
      "3\n",
      "2\n",
      "1\n",
      "0\n"
     ]
    }
   ],
   "source": [
    "count=5\n",
    "while count>=0:\n",
    "    print(count)\n",
    "    count-=1"
   ]
  },
  {
   "cell_type": "code",
   "execution_count": 21,
   "metadata": {},
   "outputs": [
    {
     "name": "stdout",
     "output_type": "stream",
     "text": [
      "[1, 2, 3, 4, 5]\n"
     ]
    }
   ],
   "source": [
    "#assignment output must be (1,2,3,4,5)\n",
    "val=[5,4,3,2,1]\n",
    "for valee in val:\n",
    "    valee=sorted(val)\n",
    "print(valee)  \n"
   ]
  },
  {
   "cell_type": "code",
   "execution_count": 2,
   "metadata": {},
   "outputs": [
    {
     "data": {
      "text/plain": [
       "5"
      ]
     },
     "execution_count": 2,
     "metadata": {},
     "output_type": "execute_result"
    }
   ],
   "source": [
    "val=[5,4,3,2,1]\n",
    "len(val)"
   ]
  },
  {
   "cell_type": "code",
   "execution_count": 7,
   "metadata": {},
   "outputs": [
    {
     "name": "stdout",
     "output_type": "stream",
     "text": [
      "[1, 2, 3, 4, 5]\n"
     ]
    }
   ],
   "source": [
    "val=[5,4,3,2,1]\n",
    "empty=[]\n",
    "while len(val)>0:  #work as far as the condition is true. .pop()picks from the back\n",
    "   for valee in val:\n",
    "    new=val.pop()\n",
    "    empty.append(new)\n",
    "print(empty)\n",
    "\n"
   ]
  },
  {
   "cell_type": "code",
   "execution_count": 9,
   "metadata": {},
   "outputs": [
    {
     "data": {
      "text/plain": [
       "range(10, 2)"
      ]
     },
     "execution_count": 9,
     "metadata": {},
     "output_type": "execute_result"
    }
   ],
   "source": [
    "range(10,2)"
   ]
  },
  {
   "cell_type": "code",
   "execution_count": 12,
   "metadata": {},
   "outputs": [
    {
     "name": "stdout",
     "output_type": "stream",
     "text": [
      "0\n",
      "1\n",
      "2\n",
      "3\n",
      "4\n"
     ]
    }
   ],
   "source": [
    "#break and continue \n",
    "for x in range(10):\n",
    "    if x==5:\n",
    "        break\n",
    "    print(x)"
   ]
  },
  {
   "cell_type": "code",
   "execution_count": 13,
   "metadata": {},
   "outputs": [
    {
     "name": "stdout",
     "output_type": "stream",
     "text": [
      "1\n",
      "3\n",
      "5\n",
      "7\n",
      "9\n",
      "11\n",
      "13\n",
      "15\n",
      "17\n",
      "19\n"
     ]
    }
   ],
   "source": [
    "#skipping numbers that can be divided by 2\n",
    "for x in range(20): \n",
    "  if x%2==0:\n",
    "    continue\n",
    "  print(x)"
   ]
  },
  {
   "cell_type": "code",
   "execution_count": 21,
   "metadata": {},
   "outputs": [
    {
     "name": "stdout",
     "output_type": "stream",
     "text": [
      "0\n",
      "5\n",
      "10\n",
      "15\n",
      "20\n",
      "25\n",
      "30\n",
      "35\n",
      "40\n",
      "45\n",
      "50\n",
      "55\n",
      "60\n"
     ]
    }
   ],
   "source": [
    "#find 5 multiplication table\n",
    "for x in range(65):\n",
    "    if x%5!=0:\n",
    "        continue\n",
    "    print(x)\n"
   ]
  },
  {
   "cell_type": "code",
   "execution_count": 32,
   "metadata": {},
   "outputs": [
    {
     "name": "stdout",
     "output_type": "stream",
     "text": [
      "1\n",
      "3\n"
     ]
    }
   ],
   "source": [
    "#break when it get to 5 and continue with range of numbers that can be divided by 2\n",
    "for x in range(10):\n",
    "    if x==5:\n",
    "        break\n",
    "    elif x%2==0:\n",
    "        continue\n",
    "    print(x)"
   ]
  },
  {
   "cell_type": "code",
   "execution_count": 38,
   "metadata": {},
   "outputs": [
    {
     "name": "stdout",
     "output_type": "stream",
     "text": [
      "1\n",
      "3\n",
      "7\n",
      "9\n"
     ]
    }
   ],
   "source": [
    "for x in range(10):\n",
    "    if x==5 or x%2==0:\n",
    "        continue\n",
    "    print(x)"
   ]
  },
  {
   "cell_type": "code",
   "execution_count": 14,
   "metadata": {},
   "outputs": [
    {
     "name": "stdout",
     "output_type": "stream",
     "text": [
      "skipping number at 3\n",
      "skipping number at 6\n",
      "skipping number at 9\n",
      "skipping number at 12\n",
      "skipping number at 15\n",
      "skipping number at 18\n",
      "skipping number at 21\n",
      "skipping number at 24\n",
      "skipping number at 27\n",
      "skipping number at 30\n",
      "skipping number at 33\n",
      "stopping number at 35\n",
      "skipping number at 36\n",
      "skipping number at 39\n",
      "skipping number at 42\n",
      "skipping number at 45\n",
      "skipping number at 48\n"
     ]
    }
   ],
   "source": [
    "#assignment\n",
    "for list in range(1,50):\n",
    "    if list%3==0:\n",
    "     print(f\"skipping number at {list}\") \n",
    "     continue\n",
    "    if list==35:\n",
    "       print(f\"stopping number at {list}\") \n",
    "       continue    \n",
    "\n"
   ]
  },
  {
   "cell_type": "code",
   "execution_count": 16,
   "metadata": {},
   "outputs": [
    {
     "name": "stdout",
     "output_type": "stream",
     "text": [
      "at index position 0 we have mango\n",
      "at index position 1 we have guava\n",
      "at index position 2 we have apple\n",
      "at index position 3 we have berry\n"
     ]
    }
   ],
   "source": [
    "#lopping through index postion\n",
    "fruits=[\"mango\",\"guava\",\"apple\",\"berry\"]\n",
    "for index in range(len(fruits)):\n",
    "    print(\"at index position\",index,\"we have\",fruits[index])"
   ]
  },
  {
   "cell_type": "code",
   "execution_count": 18,
   "metadata": {},
   "outputs": [
    {
     "name": "stdout",
     "output_type": "stream",
     "text": [
      "at index position 0 we have m\n",
      "at index position 1 we have a\n",
      "at index position 2 we have t\n",
      "at index position 3 we have h\n",
      "at index position 4 we have e\n",
      "at index position 5 we have m\n",
      "at index position 6 we have a\n",
      "at index position 7 we have t\n",
      "at index position 8 we have i\n",
      "at index position 9 we have c\n",
      "at index position 10 we have s\n"
     ]
    }
   ],
   "source": [
    "name=input(str())\n",
    "for index in range(len(name)):\n",
    "    print(\"at index position\",index,\"we have\",name[index])"
   ]
  },
  {
   "cell_type": "code",
   "execution_count": 20,
   "metadata": {},
   "outputs": [
    {
     "name": "stdout",
     "output_type": "stream",
     "text": [
      "name\n",
      "country\n",
      "gender\n",
      "hobby\n"
     ]
    }
   ],
   "source": [
    "#looping through dictionaries\n",
    "dict={\"name\":\"ann\",\"country\":\"usa\",\"gender\":\"female\",\"hobby\":\"sleeping\"}\n",
    "for key in dict.keys():\n",
    "    print(key)"
   ]
  },
  {
   "cell_type": "code",
   "execution_count": 21,
   "metadata": {},
   "outputs": [
    {
     "name": "stdout",
     "output_type": "stream",
     "text": [
      "ann\n",
      "usa\n",
      "female\n",
      "sleeping\n"
     ]
    }
   ],
   "source": [
    "dict={\"name\":\"ann\",\"country\":\"usa\",\"gender\":\"female\",\"hobby\":\"sleeping\"}\n",
    "for value in dict.values():\n",
    "     print(value)"
   ]
  },
  {
   "cell_type": "code",
   "execution_count": 22,
   "metadata": {},
   "outputs": [
    {
     "name": "stdout",
     "output_type": "stream",
     "text": [
      "name ann\n",
      "country usa\n",
      "gender female\n",
      "hobby sleeping\n"
     ]
    }
   ],
   "source": [
    "for key,value in dict.items():\n",
    "    print(key,value)"
   ]
  },
  {
   "cell_type": "code",
   "execution_count": 25,
   "metadata": {},
   "outputs": [
    {
     "name": "stdout",
     "output_type": "stream",
     "text": [
      "[67, 89, 70]\n",
      "The average score of james:[67, 89, 70] is 75.33\n",
      "[50, 10, 50]\n",
      "The average score of jessy:[50, 10, 50] is 36.67\n",
      "[30, 70, 56]\n",
      "The average score of isiah:[30, 70, 56] is 52.00\n",
      "[68, 46, 23]\n",
      "The average score of jossy:[68, 46, 23] is 45.67\n",
      "[67, 45, 76]\n",
      "The average score of lizzy:[67, 45, 76] is 62.67\n"
     ]
    }
   ],
   "source": [
    "#making a list of student and their various scores(using s dictionary and list)\n",
    "scores={\n",
    "    \"james\":[67,89,70],\n",
    "    \"jessy\":[50,10,50],\n",
    "    \"isiah\":[30,70,56],\n",
    "    \"jossy\":[68,46,23],\n",
    "    \"lizzy\":[67,45,76]}\n",
    "for student,grade in scores.items():\n",
    "    print(grade)\n",
    "    total=sum(grade)\n",
    "    length=len(grade)\n",
    "    average=total/length\n",
    "    print(f\"The average score of {student}:{grade} is {average :.2f}\")\n",
    "    #use:.2f or 3f .... to reduce decimal place\n",
    "\n",
    "\n"
   ]
  },
  {
   "cell_type": "code",
   "execution_count": 35,
   "metadata": {},
   "outputs": [
    {
     "name": "stdout",
     "output_type": "stream",
     "text": [
      "$12000\n",
      "$10000\n",
      "$11000\n"
     ]
    }
   ],
   "source": [
    "#looping through nested dictionary\n",
    "Employees={\"jerome\":{\"age\":35,\"position\":\"manager\",\"salary\":\"$12000\"},\n",
    "         \"loveth\":{\"age\":25,\"position\":\"salesattendant\",\"salary\":\"$10000\"},\n",
    "          \"vinny\":{\"age\":29,\"position\":\"IToperative\",\"salary\":\"$11000\"}}\n",
    "for key,value in Employees.items():\n",
    "    for inner_keys,inner_value in value.items():\n",
    "        #print(inner_keys,inner_value) \n",
    "        if inner_keys==\"salary\":\n",
    "            print(inner_value)\n",
    "            "
   ]
  },
  {
   "cell_type": "code",
   "execution_count": 4,
   "metadata": {},
   "outputs": [
    {
     "name": "stdout",
     "output_type": "stream",
     "text": [
      "33000\n"
     ]
    }
   ],
   "source": [
    "employees = {\"jerome\":{\"age\":35,\"position\":\"manager\",\"salary\":12000},\n",
    "            \"loveth\":{\"age\":25,\"position\":\"salesattendant\",\"salary\":10000},\n",
    "            \"vinny\":{\"age\":29,\"position\":\"IToperative\",\"salary\":11000}\n",
    "          }\n",
    "total_salary=[]\n",
    "for key,value in employees.items():\n",
    "    new = value[\"salary\"]\n",
    "    total_salary.append(new)\n",
    "    val=sum(total_salary)\n",
    "print(val)"
   ]
  },
  {
   "cell_type": "code",
   "execution_count": 20,
   "metadata": {},
   "outputs": [
    {
     "name": "stdout",
     "output_type": "stream",
     "text": [
      "the average grade for sam is 72\n",
      "the average grade for joel is 67\n",
      "the average grade for justin is 76\n",
      "the average grade for eva is 78\n",
      "the average grade for jaane is 77\n",
      "the average grade for zain is 69\n",
      "the average grade for vinny is 76\n",
      "the average grade for king is 76\n",
      "the average grade for jeff is 66\n",
      "the average grade for williams is 74\n"
     ]
    }
   ],
   "source": [
    "#assignment\n",
    "students={\n",
    "        \"sam\":[76,77,78,65,65],\n",
    "        \"joel\":[56,78,67,76,56],\n",
    "        \"justin\":[87,88,76,54],\n",
    "        \"eva\":[89,89,78,54],\n",
    "        \"jaane\":[67,87,76,77],\n",
    "        \"zain\":[60,70,80,65],\n",
    "        \"vinny\":[65,76,87,76],\n",
    "        \"king\":[67,76,87,76],\n",
    "        \"jeff\":[56,67,65,76],\n",
    "        \"williams\":[78,76,75,65]}\n",
    "for name,scores in students.items():\n",
    "        #print(scores)\n",
    "        total=sum(scores)\n",
    "        length=len(scores)\n",
    "        average=total/length\n",
    "        #print(f\"the average of grade of {name}:{scores} is {average}\")  \n",
    "        print(f\"the average grade for {name} is {average}\")    \n",
    "                \n",
    "        "
   ]
  },
  {
   "cell_type": "code",
   "execution_count": 21,
   "metadata": {},
   "outputs": [
    {
     "ename": "TypeError",
     "evalue": "'float' object is not iterable",
     "output_type": "error",
     "traceback": [
      "\u001b[1;31m---------------------------------------------------------------------------\u001b[0m",
      "\u001b[1;31mTypeError\u001b[0m                                 Traceback (most recent call last)",
      "Cell \u001b[1;32mIn[21], line 1\u001b[0m\n\u001b[1;32m----> 1\u001b[0m minimum\u001b[39m=\u001b[39m\u001b[39mmin\u001b[39;49m(total\u001b[39m/\u001b[39;49mlength)\n\u001b[0;32m      2\u001b[0m \u001b[39mprint\u001b[39m(minimum)\n",
      "\u001b[1;31mTypeError\u001b[0m: 'float' object is not iterable"
     ]
    }
   ],
   "source": [
    "minimum=min()\n",
    "print(minimum)"
   ]
  },
  {
   "cell_type": "code",
   "execution_count": null,
   "metadata": {},
   "outputs": [],
   "source": [
    "# Dictionary of student grades\n",
    "grades = {\"sam\":[76,77,78,65,65],\n",
    "        \"joel\":[56,78,67,76,56],\n",
    "        \"justin\":[87,88,76,54],\n",
    "        \"eva\":[89,89,78,54],\n",
    "        \"jaane\":[67,87,76,77],\n",
    "        \"zain\":[60,70,80,65],\n",
    "        \"vinny\":[65,76,87,76],\n",
    "        \"king\":[67,76,87,76],\n",
    "        \"jeff\":[56,67,65,76],\n",
    "        \"williams\":[78,76,75,65]}\n",
    "# Calculate average grade for each student\n",
    "for student, grade_list in grades.items():\n",
    "    total_grade = 0\n",
    "    num_grades = len(grade_list)\n",
    "    for grade in grade_list:\n",
    "        total_grade += grade\n",
    "    average = total_grade / num_grades\n",
    "    print(f\"{student}: Average grade = {average:.2f}\")\n",
    "\n",
    "# Find student(s) with the highest average grade\n",
    "highest_average = 0\n",
    "top_students = []\n",
    "\n",
    "for student, grade_list in grades.items():\n",
    "    total_grade = 0\n",
    "    num_grades = len(grade_list)\n",
    "    for grade in grade_list:\n",
    "        total_grade += grade\n",
    "    average = total_grade / num_grades\n",
    "\n",
    "    if average > highest_average:\n",
    "        highest_average = average\n",
    "        top_students = [student]\n",
    "    elif average == highest_average:\n",
    "        top_students.append(student)\n",
    "\n",
    "print(f\"Student(s) with the highest average grade: {', '.join(top_students)}\")"
   ]
  },
  {
   "cell_type": "code",
   "execution_count": 1,
   "metadata": {},
   "outputs": [
    {
     "ename": "NameError",
     "evalue": "name 'grades' is not defined",
     "output_type": "error",
     "traceback": [
      "\u001b[1;31m---------------------------------------------------------------------------\u001b[0m",
      "\u001b[1;31mNameError\u001b[0m                                 Traceback (most recent call last)",
      "Cell \u001b[1;32mIn[1], line 1\u001b[0m\n\u001b[1;32m----> 1\u001b[0m \u001b[39mfor\u001b[39;00m student, grade_list \u001b[39min\u001b[39;00m grades\u001b[39m.\u001b[39mitems():\n\u001b[0;32m      2\u001b[0m     total_grade \u001b[39m=\u001b[39m \u001b[39m0\u001b[39m\n\u001b[0;32m      3\u001b[0m     num_grades \u001b[39m=\u001b[39m \u001b[39mlen\u001b[39m(grade_list)\n",
      "\u001b[1;31mNameError\u001b[0m: name 'grades' is not defined"
     ]
    }
   ],
   "source": [
    "for student, grade_list in grades.items():\n",
    "    total_grade = 0\n",
    "    num_grades = len(grade_list)\n",
    "    for grade in grade_list:\n",
    "        print(grade)\n"
   ]
  }
 ],
 "metadata": {
  "kernelspec": {
   "display_name": "Python 3",
   "language": "python",
   "name": "python3"
  },
  "language_info": {
   "codemirror_mode": {
    "name": "ipython",
    "version": 3
   },
   "file_extension": ".py",
   "mimetype": "text/x-python",
   "name": "python",
   "nbconvert_exporter": "python",
   "pygments_lexer": "ipython3",
   "version": "3.11.4"
  },
  "orig_nbformat": 4
 },
 "nbformat": 4,
 "nbformat_minor": 2
}
