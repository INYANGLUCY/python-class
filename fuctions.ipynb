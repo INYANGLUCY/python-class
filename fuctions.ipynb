{
 "cells": [
  {
   "cell_type": "code",
   "execution_count": 11,
   "metadata": {},
   "outputs": [
    {
     "name": "stdout",
     "output_type": "stream",
     "text": [
      "Hello,King!\n"
     ]
    }
   ],
   "source": [
    "def greet(name):\n",
    "    print(\"Hello,\" +name+\"!\")\n",
    "greet(\"King\")"
   ]
  },
  {
   "cell_type": "code",
   "execution_count": 12,
   "metadata": {},
   "outputs": [
    {
     "data": {
      "text/plain": [
       "'Hello,King!Whats up?'"
      ]
     },
     "execution_count": 12,
     "metadata": {},
     "output_type": "execute_result"
    }
   ],
   "source": [
    "def greet(name):\n",
    "    return(\"Hello,\" +name+\"!\" \"Whats up?\")\n",
    "greet(\"King\")"
   ]
  },
  {
   "cell_type": "code",
   "execution_count": 13,
   "metadata": {},
   "outputs": [
    {
     "name": "stdout",
     "output_type": "stream",
     "text": [
      "14\n"
     ]
    }
   ],
   "source": [
    "def add(a,b,g):\n",
    "    return a+b+g    #using return statement directly\n",
    "add(3,6,5)\n",
    "result=add(3,6,5)     #assigning to a variable\n",
    "print(result)"
   ]
  },
  {
   "cell_type": "code",
   "execution_count": 14,
   "metadata": {},
   "outputs": [
    {
     "name": "stdout",
     "output_type": "stream",
     "text": [
      "96\n"
     ]
    }
   ],
   "source": [
    "def multiply(a,b,e=8):\n",
    "    return a*b*e\n",
    "multiply(3,4)\n",
    "print(multiply (3,4))"
   ]
  },
  {
   "cell_type": "code",
   "execution_count": 10,
   "metadata": {},
   "outputs": [
    {
     "name": "stdout",
     "output_type": "stream",
     "text": [
      "60\n"
     ]
    }
   ],
   "source": [
    "def multiply(a,b,e=8):  # the default value was put aside i.e 8 was replaced with 5\n",
    "    return a*b*e\n",
    "print(multiply(3,4,5))\n"
   ]
  },
  {
   "cell_type": "code",
   "execution_count": 16,
   "metadata": {},
   "outputs": [
    {
     "data": {
      "text/plain": [
       "2.5"
      ]
     },
     "execution_count": 16,
     "metadata": {},
     "output_type": "execute_result"
    }
   ],
   "source": [
    "def divide(divideA,divideB):\n",
    "    return divideA/divideB\n",
    "divide(divideA=50,divideB=20)"
   ]
  },
  {
   "cell_type": "code",
   "execution_count": 1,
   "metadata": {},
   "outputs": [
    {
     "data": {
      "text/plain": [
       "40"
      ]
     },
     "execution_count": 1,
     "metadata": {},
     "output_type": "execute_result"
    }
   ],
   "source": [
    "#ADDING MORE THAN 2 NUMBERS\n",
    "def add(*c):\n",
    "    return sum(c)\n",
    "add(2,4,4,6,7,8,9)"
   ]
  },
  {
   "cell_type": "code",
   "execution_count": 4,
   "metadata": {},
   "outputs": [
    {
     "data": {
      "text/plain": [
       "20"
      ]
     },
     "execution_count": 4,
     "metadata": {},
     "output_type": "execute_result"
    }
   ],
   "source": [
    "#creating our custom function for addition\n",
    "def add_int(*input):\n",
    "    result=0\n",
    "    for num in input:\n",
    "        result+=num\n",
    "    return result\n",
    "add_int(1,3,5,6,5)\n"
   ]
  },
  {
   "cell_type": "code",
   "execution_count": 13,
   "metadata": {},
   "outputs": [
    {
     "data": {
      "text/plain": [
       "0.1875"
      ]
     },
     "execution_count": 13,
     "metadata": {},
     "output_type": "execute_result"
    }
   ],
   "source": [
    "#creating our custom function for division\n",
    "def divide_int(*input):\n",
    "    if len(input)==0:\n",
    "        return \"atleast one number must be provided\"\n",
    "    result=input[0]\n",
    "    for num in input[1:]:\n",
    "        if num==0:\n",
    "            return\"cannot divide by zero\"\n",
    "        result/=num\n",
    "    return result   \n",
    "divide_int(3,2,2,2,2)\n",
    "                    \n"
   ]
  },
  {
   "cell_type": "code",
   "execution_count": 16,
   "metadata": {},
   "outputs": [
    {
     "data": {
      "text/plain": [
       "336"
      ]
     },
     "execution_count": 16,
     "metadata": {},
     "output_type": "execute_result"
    }
   ],
   "source": [
    "#creating custom function for multiplication\n",
    "def multiply_int(*input):\n",
    "    result= 1\n",
    "    for num in input:\n",
    "       result*=num\n",
    "    return result\n",
    "multiply_int(2,4,6,7)"
   ]
  },
  {
   "cell_type": "code",
   "execution_count": 17,
   "metadata": {},
   "outputs": [
    {
     "data": {
      "text/plain": [
       "615.44"
      ]
     },
     "execution_count": 17,
     "metadata": {},
     "output_type": "execute_result"
    }
   ],
   "source": [
    "#calculating area of circle \n",
    "def area_of_circle(r,pie=3.14):\n",
    "    return pie*(r**2)\n",
    "area_of_circle(r=14)"
   ]
  },
  {
   "cell_type": "code",
   "execution_count": 18,
   "metadata": {},
   "outputs": [
    {
     "data": {
      "text/plain": [
       "2.1"
      ]
     },
     "execution_count": 18,
     "metadata": {},
     "output_type": "execute_result"
    }
   ],
   "source": [
    "#calculating simple interest\n",
    "def simple_interest(*c):\n",
    "    result=1\n",
    "    for num in c:\n",
    "        result*=num\n",
    "    return result\n",
    "simple_interest(5,6,7)/100"
   ]
  },
  {
   "cell_type": "code",
   "execution_count": 22,
   "metadata": {},
   "outputs": [
    {
     "data": {
      "text/plain": [
       "54.0"
      ]
     },
     "execution_count": 22,
     "metadata": {},
     "output_type": "execute_result"
    }
   ],
   "source": [
    "def SI(P,T,R):\n",
    "    interest=(P*T*R)/100\n",
    "    return interest\n",
    "SI(P=600,T=3,R=3)"
   ]
  },
  {
   "cell_type": "code",
   "execution_count": 26,
   "metadata": {},
   "outputs": [
    {
     "name": "stdout",
     "output_type": "stream",
     "text": [
      " even=[2, 4, 6, 8, 10],\n",
      " odd=[3, 5, 7, 9]\n"
     ]
    }
   ],
   "source": [
    "#POSTIONAL ARGUEMENT\n",
    "#sorting even numbers\n",
    "def extract_EvenOdd(*num):\n",
    "    even=[]\n",
    "    odd=[]\n",
    "    for x in num:\n",
    "        if x%2==0:\n",
    "            even.append(x)\n",
    "        elif x%2!=0:\n",
    "            odd.append(x)\n",
    "    print(F\" even={even},\\n odd={odd }\")\n",
    "extract_EvenOdd(2,3,4,5,6,7,8,9,10)              "
   ]
  }
 ],
 "metadata": {
  "kernelspec": {
   "display_name": "Python 3",
   "language": "python",
   "name": "python3"
  },
  "language_info": {
   "codemirror_mode": {
    "name": "ipython",
    "version": 3
   },
   "file_extension": ".py",
   "mimetype": "text/x-python",
   "name": "python",
   "nbconvert_exporter": "python",
   "pygments_lexer": "ipython3",
   "version": "3.11.4"
  },
  "orig_nbformat": 4
 },
 "nbformat": 4,
 "nbformat_minor": 2
}
