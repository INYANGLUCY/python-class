{
 "cells": [
  {
   "cell_type": "code",
   "execution_count": 3,
   "metadata": {},
   "outputs": [
    {
     "name": "stdout",
     "output_type": "stream",
     "text": [
      "Hello Norbert!\n"
     ]
    }
   ],
   "source": [
    "def greet(name):\n",
    "    print(f\"Hello {name}!\")\n",
    "\n",
    "greet(\"Norbert\")"
   ]
  },
  {
   "cell_type": "code",
   "execution_count": 7,
   "metadata": {},
   "outputs": [
    {
     "name": "stdout",
     "output_type": "stream",
     "text": [
      "Hello Norbert, how are you ?\n"
     ]
    }
   ],
   "source": [
    "def greet(name):\n",
    "    return(f\"Hello {name}, how are you ?\")\n",
    "print(greet(\"Norbert\"))"
   ]
  },
  {
   "cell_type": "code",
   "execution_count": 4,
   "metadata": {},
   "outputs": [
    {
     "data": {
      "text/plain": [
       "9"
      ]
     },
     "execution_count": 4,
     "metadata": {},
     "output_type": "execute_result"
    }
   ],
   "source": [
    "#using return statement directly\n",
    "def add(x, y, z):\n",
    "    return x + y + z \n",
    "add (1, 3, 5)"
   ]
  },
  {
   "cell_type": "code",
   "execution_count": 5,
   "metadata": {},
   "outputs": [
    {
     "name": "stdout",
     "output_type": "stream",
     "text": [
      "9\n"
     ]
    }
   ],
   "source": [
    " #assigning to a variable call \"result\"\n",
    "def add(x, y, z):\n",
    "    return x + y + z \n",
    "result = add(1,3,5) \n",
    "print(result)\n"
   ]
  },
  {
   "cell_type": "code",
   "execution_count": 11,
   "metadata": {},
   "outputs": [
    {
     "data": {
      "text/plain": [
       "9"
      ]
     },
     "execution_count": 11,
     "metadata": {},
     "output_type": "execute_result"
    }
   ],
   "source": [
    "def add(x, y, z):\n",
    "    eqn = x + y + z\n",
    "    return eqn\n",
    "add (1, 3, 5)"
   ]
  },
  {
   "cell_type": "code",
   "execution_count": 10,
   "metadata": {},
   "outputs": [
    {
     "data": {
      "text/plain": [
       "81"
      ]
     },
     "execution_count": 10,
     "metadata": {},
     "output_type": "execute_result"
    }
   ],
   "source": [
    "def multiply(x, y = 27):\n",
    "    return x * y\n",
    "multiply(3)"
   ]
  },
  {
   "cell_type": "code",
   "execution_count": 11,
   "metadata": {},
   "outputs": [
    {
     "name": "stdout",
     "output_type": "stream",
     "text": [
      "81\n",
      "27\n"
     ]
    }
   ],
   "source": [
    "def multiply(x, y = 27):\n",
    "    return x * y\n",
    "print(multiply(3))\n",
    "print(multiply(3, 9))\n"
   ]
  },
  {
   "cell_type": "code",
   "execution_count": 13,
   "metadata": {},
   "outputs": [
    {
     "data": {
      "text/plain": [
       "2.5"
      ]
     },
     "execution_count": 13,
     "metadata": {},
     "output_type": "execute_result"
    }
   ],
   "source": [
    "def divide (divideA, divideB):\n",
    "    return divideA/divideB\n",
    "divide(divideA= 50, divideB= 20)"
   ]
  },
  {
   "cell_type": "code",
   "execution_count": 1,
   "metadata": {},
   "outputs": [
    {
     "data": {
      "text/plain": [
       "200"
      ]
     },
     "execution_count": 1,
     "metadata": {},
     "output_type": "execute_result"
    }
   ],
   "source": [
    "#using special character to pack expected parameters in a parameter\n",
    "def add (*C):\n",
    "    return sum(C)\n",
    "add (1, 5, 4, 13, 78, 99)"
   ]
  },
  {
   "cell_type": "code",
   "execution_count": 2,
   "metadata": {},
   "outputs": [
    {
     "data": {
      "text/plain": [
       "31"
      ]
     },
     "execution_count": 2,
     "metadata": {},
     "output_type": "execute_result"
    }
   ],
   "source": [
    "#creating a custom function for addition\n",
    "def add_integer (*input):\n",
    "    result = 0\n",
    "    for num in input:\n",
    "        result += num\n",
    "    return result\n",
    "add_integer (1,4,7,9,4,6)"
   ]
  },
  {
   "cell_type": "code",
   "execution_count": 13,
   "metadata": {},
   "outputs": [
    {
     "data": {
      "text/plain": [
       "0.1875"
      ]
     },
     "execution_count": 13,
     "metadata": {},
     "output_type": "execute_result"
    }
   ],
   "source": [
    "def divide_int (*input):\n",
    "    if len(input) == 0:\n",
    "        return \"at least one number must be provided\"\n",
    "    result = input[0]\n",
    "    for num in input[1:]:\n",
    "        if num == 0:\n",
    "            return \"cannot divide by zero\"\n",
    "        result/=num\n",
    "    return result\n",
    "divide_int(3,2,2,2,2)"
   ]
  },
  {
   "cell_type": "code",
   "execution_count": 14,
   "metadata": {},
   "outputs": [
    {
     "data": {
      "text/plain": [
       "288"
      ]
     },
     "execution_count": 14,
     "metadata": {},
     "output_type": "execute_result"
    }
   ],
   "source": [
    "def multi (*input):\n",
    "    result = 1\n",
    "    for num in input:\n",
    "        result *= num\n",
    "    return result\n",
    "multi (4, 8, 1, 9)"
   ]
  },
  {
   "cell_type": "code",
   "execution_count": 15,
   "metadata": {},
   "outputs": [
    {
     "data": {
      "text/plain": [
       "615.44"
      ]
     },
     "execution_count": 15,
     "metadata": {},
     "output_type": "execute_result"
    }
   ],
   "source": [
    "def area_of_circle (r, pie = 3.14):\n",
    "    return pie * (r**2)\n",
    "area_of_circle(r=14)"
   ]
  },
  {
   "cell_type": "code",
   "execution_count": 3,
   "metadata": {},
   "outputs": [
    {
     "data": {
      "text/plain": [
       "121500.0"
      ]
     },
     "execution_count": 3,
     "metadata": {},
     "output_type": "execute_result"
    }
   ],
   "source": [
    "def SI (*C):\n",
    "    mult = 1\n",
    "    for num in C:\n",
    "        mult *= num\n",
    "    return mult\n",
    "SI(50000, 27, 9)/100"
   ]
  },
  {
   "cell_type": "code",
   "execution_count": 5,
   "metadata": {},
   "outputs": [
    {
     "data": {
      "text/plain": [
       "12150.0"
      ]
     },
     "execution_count": 5,
     "metadata": {},
     "output_type": "execute_result"
    }
   ],
   "source": [
    "def SI(P, R, T):\n",
    "    interest = (P*R*T)/100\n",
    "    return interest\n",
    "SI(P = 5000, R = 27, T = 9)"
   ]
  },
  {
   "cell_type": "code",
   "execution_count": 16,
   "metadata": {},
   "outputs": [
    {
     "name": "stdout",
     "output_type": "stream",
     "text": [
      "The even numbers are = [2, 4, 6, 8, 10]\n",
      "The odd numbers are = [1, 3, 5, 7, 9]\n"
     ]
    }
   ],
   "source": [
    "#sorting even and odd number\n",
    "def extract_EvenOdd(*num):\n",
    "    even =[ ]\n",
    "    odd =[ ]\n",
    "    for x in num:\n",
    "        if x % 2 == 0:\n",
    "            even.append(x)\n",
    "        elif x % 2 != 0:\n",
    "            odd.append(x)\n",
    "    print(f\"The even numbers are = {even}\\nThe odd numbers are = {odd}\")\n",
    "extract_EvenOdd(1,2,3,4,5,6,7,8,9,10)"
   ]
  },
  {
   "cell_type": "code",
   "execution_count": 1,
   "metadata": {},
   "outputs": [
    {
     "data": {
      "text/plain": [
       "60"
      ]
     },
     "execution_count": 1,
     "metadata": {},
     "output_type": "execute_result"
    }
   ],
   "source": [
    "def get_highest(**kwargs):\n",
    "    for x in kwargs.values():\n",
    "        if x > 50:\n",
    "            return x\n",
    "get_highest(john=60, sarah=70,norbert=45)"
   ]
  },
  {
   "cell_type": "code",
   "execution_count": 2,
   "metadata": {},
   "outputs": [
    {
     "data": {
      "text/plain": [
       "99"
      ]
     },
     "execution_count": 2,
     "metadata": {},
     "output_type": "execute_result"
    }
   ],
   "source": [
    "def max_num (*max):\n",
    "    highest = 0\n",
    "    for x in max:\n",
    "        if x > highest:\n",
    "            highest = x\n",
    "    return highest\n",
    "max_num(25, 54, 87, 99, 42, 90)"
   ]
  },
  {
   "cell_type": "code",
   "execution_count": 8,
   "metadata": {},
   "outputs": [
    {
     "data": {
      "text/plain": [
       "25"
      ]
     },
     "execution_count": 8,
     "metadata": {},
     "output_type": "execute_result"
    }
   ],
   "source": [
    "def min_num (*min):\n",
    "    lowest = float(\"inf\")\n",
    "    for x in min:\n",
    "        if x < lowest:\n",
    "            lowest = x\n",
    "    return lowest\n",
    "min_num(25, 54, 87, 99, 42, 90)"
   ]
  },
  {
   "cell_type": "markdown",
   "metadata": {},
   "source": [
    "TREATING FUNCTION AS A FIRST CLASS CITIZEN\n",
    "1. PASSING A FUNCTION IN A FUNCTION\n",
    "2. CALLING A FUNCTION IN A FUNCTION\n",
    "3. STORING FUNCTION IN A VARIABLE\n",
    "4. HOLDING FUNCTION IN A DATA STRUCTURE"
   ]
  },
  {
   "cell_type": "code",
   "execution_count": 9,
   "metadata": {},
   "outputs": [
    {
     "data": {
      "text/plain": [
       "3500.0"
      ]
     },
     "execution_count": 9,
     "metadata": {},
     "output_type": "execute_result"
    }
   ],
   "source": [
    "def mult (P,T,R):\n",
    "    result = P*T*R\n",
    "    return result\n",
    "def simple_interest (mult, val = 100):\n",
    "    div = mult/val\n",
    "    return div\n",
    "simple_interest(mult(10000, 7, 5))"
   ]
  },
  {
   "cell_type": "code",
   "execution_count": 12,
   "metadata": {},
   "outputs": [
    {
     "data": {
      "text/plain": [
       "3500.0"
      ]
     },
     "execution_count": 12,
     "metadata": {},
     "output_type": "execute_result"
    }
   ],
   "source": [
    "def mult (P,T,R):\n",
    "    result = P*T*R\n",
    "    return result\n",
    "def simple_interest (mult, val):\n",
    "    div = mult/val\n",
    "    return div\n",
    "simple_interest(mult(P=10000,T= 7,R= 5), 100)"
   ]
  },
  {
   "cell_type": "code",
   "execution_count": 15,
   "metadata": {},
   "outputs": [
    {
     "name": "stdout",
     "output_type": "stream",
     "text": [
      "10\n"
     ]
    }
   ],
   "source": [
    "#STORING FUNCTION IN A VARIABLE\n",
    "def add (a, b):\n",
    "    sum = a + b\n",
    "    return sum\n",
    "val = add(3,7)\n",
    "print(val)"
   ]
  },
  {
   "cell_type": "code",
   "execution_count": 16,
   "metadata": {},
   "outputs": [
    {
     "name": "stdout",
     "output_type": "stream",
     "text": [
      "[1, 2, 3, 4, 5, 6, 7, 8, 9, 10]\n"
     ]
    }
   ],
   "source": [
    "l = [1,2,3,4,5,6,7,8,9,(add(4,6))]\n",
    "print(l)"
   ]
  },
  {
   "cell_type": "markdown",
   "metadata": {},
   "source": [
    "LAMBDA FUNCTION\n",
    "lambda parameters : expression"
   ]
  },
  {
   "cell_type": "code",
   "execution_count": 17,
   "metadata": {},
   "outputs": [
    {
     "name": "stdout",
     "output_type": "stream",
     "text": [
      "11\n"
     ]
    }
   ],
   "source": [
    "add = lambda x, y: x + y\n",
    "print(add(4,7))"
   ]
  },
  {
   "cell_type": "code",
   "execution_count": 19,
   "metadata": {},
   "outputs": [
    {
     "name": "stdout",
     "output_type": "stream",
     "text": [
      "360\n"
     ]
    }
   ],
   "source": [
    "multiply = lambda a, b, c : a * b * c\n",
    "print(multiply(5, 8, 9))"
   ]
  },
  {
   "cell_type": "code",
   "execution_count": 21,
   "metadata": {},
   "outputs": [
    {
     "name": "stdout",
     "output_type": "stream",
     "text": [
      "(49, 125)\n"
     ]
    }
   ],
   "source": [
    "square = lambda a, b : (a ** 2, b ** 3)\n",
    "print(square(7, 5))"
   ]
  },
  {
   "cell_type": "code",
   "execution_count": 22,
   "metadata": {},
   "outputs": [
    {
     "name": "stdout",
     "output_type": "stream",
     "text": [
      "2\n"
     ]
    }
   ],
   "source": [
    "remainder = lambda a, b : (a % b)\n",
    "print(remainder(5,3))"
   ]
  },
  {
   "cell_type": "code",
   "execution_count": 5,
   "metadata": {},
   "outputs": [
    {
     "name": "stdout",
     "output_type": "stream",
     "text": [
      "The reverse string is: trebron \n"
     ]
    }
   ],
   "source": [
    "def rev_str (string):\n",
    "    str = \" \"\n",
    "    for x in string:\n",
    "        str = x + str\n",
    "    return str\n",
    "str = \"norbert\"\n",
    "print(\"The reverse string is:\", rev_str(str))"
   ]
  },
  {
   "cell_type": "code",
   "execution_count": 2,
   "metadata": {},
   "outputs": [
    {
     "data": {
      "text/plain": [
       "'ycul'"
      ]
     },
     "execution_count": 2,
     "metadata": {},
     "output_type": "execute_result"
    }
   ],
   "source": [
    "def rev_str (my_name):\n",
    "    my_name = \"lucy\"\n",
    "    reverse = \"\"\n",
    "    index = len(my_name)\n",
    "    while index > 0:\n",
    "        reverse+= my_name[index -1]\n",
    "        index = index - 1\n",
    "    return reverse\n",
    "rev_str(\"my_name=lucy\")"
   ]
  },
  {
   "cell_type": "code",
   "execution_count": 3,
   "metadata": {},
   "outputs": [],
   "source": [
    "def rev_str (my_name):\n",
    "    my_name = \"lucy\"\n",
    "    reverse = \"\"\n",
    "    index = len(my_name)\n",
    "    while index > 0:\n",
    "        reverse+= my_name[index -1]\n",
    "        index = index - 1\n",
    "    return reverse\n",
    "with open(\"profile.txt\", \"a\", newline=\"\") as new_file:\n",
    "    print(rev_str(\"my_name=lucy\"), file=new_file )"
   ]
  },
  {
   "cell_type": "code",
   "execution_count": null,
   "metadata": {},
   "outputs": [],
   "source": [
    "def rev_str (my_name):\n",
    "    reverse = \"\"\n",
    "    index = len(my_name)\n",
    "    while index > 0:\n",
    "        reverse+= my_name[index -1]\n",
    "        index = index - 1\n",
    "    return reverse\n",
    "with open(\"profile.txt\", \"a\", newline=\"\") as new_file:\n",
    "    print(rev_str(input()), file=new_file )"
   ]
  }
 ],
 "metadata": {
  "kernelspec": {
   "display_name": "Python 3",
   "language": "python",
   "name": "python3"
  },
  "language_info": {
   "codemirror_mode": {
    "name": "ipython",
    "version": 3
   },
   "file_extension": ".py",
   "mimetype": "text/x-python",
   "name": "python",
   "nbconvert_exporter": "python",
   "pygments_lexer": "ipython3",
   "version": "3.11.4"
  },
  "orig_nbformat": 4
 },
 "nbformat": 4,
 "nbformat_minor": 2
}
