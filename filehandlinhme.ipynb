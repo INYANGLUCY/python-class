{
 "cells": [
  {
   "cell_type": "code",
   "execution_count": 6,
   "metadata": {},
   "outputs": [
    {
     "name": "stdout",
     "output_type": "stream",
     "text": [
      "My name is Lucy and i'm a girl\n",
      "i live in Lagos and i'm moving \n"
     ]
    }
   ],
   "source": [
    "file=open(\"me.txt\" ,\"r\" ,newline=\"\")\n",
    "content=file.read()\n",
    "print(content)"
   ]
  },
  {
   "cell_type": "code",
   "execution_count": 7,
   "metadata": {},
   "outputs": [
    {
     "name": "stdout",
     "output_type": "stream",
     "text": [
      "My name is Lucy and i'm a girl\n",
      "\n"
     ]
    }
   ],
   "source": [
    "file=open(\"me.txt\" ,\"r\" ,newline=\"\")\n",
    "content=file.readline()\n",
    "print(content)"
   ]
  },
  {
   "cell_type": "code",
   "execution_count": 8,
   "metadata": {},
   "outputs": [
    {
     "name": "stdout",
     "output_type": "stream",
     "text": [
      "[\"My name is Lucy and i'm a girl\\r\\n\", \"i live in Lagos and i'm moving \"]\n"
     ]
    }
   ],
   "source": [
    "file=open(\"me.txt\" ,\"r\" ,newline=\"\")\n",
    "content=file.readlines()\n",
    "print(content)"
   ]
  },
  {
   "cell_type": "code",
   "execution_count": 10,
   "metadata": {},
   "outputs": [],
   "source": [
    "file=open(\"me.txt\" ,\"w\" ,newline=\"\")\n",
    "file.write(\"Lucy schooled in uyo and is from akwa-ibom \\n \")\n",
    "file.write(\"Lucy schooled in uyo and is from akwa-ibom \\n\")\n",
    "file.close()\n"
   ]
  },
  {
   "cell_type": "code",
   "execution_count": 12,
   "metadata": {},
   "outputs": [],
   "source": [
    "file=open(\"me.txt\" ,\"a\" ,newline=\"\")\n",
    "file.write(\"She likes to read and eat \\n\")\n",
    "file.write(\"She loves dogs and has rabbits as pets \\n\")\n",
    "file.close()"
   ]
  },
  {
   "cell_type": "code",
   "execution_count": 14,
   "metadata": {},
   "outputs": [],
   "source": [
    "#if a file doesnt exist,pythin creates a new file \"lucy.txt\"\n",
    "file=open(\"lucy.txt\" ,\"a\" ,newline=\"\")\n",
    "file.write(\"She likes to read and eat \\n\")\n",
    "file.write(\"She loves dogs and has rabbits as pets \\n\")\n",
    "file.close()"
   ]
  },
  {
   "cell_type": "code",
   "execution_count": 13,
   "metadata": {},
   "outputs": [],
   "source": [
    "#another ay to append into text file\n",
    "with open(\"me.txt\",\"a\",newline=\"\")as new_file:\n",
    "    new_file.write(\"BAG AND SHOES\\n\")"
   ]
  },
  {
   "cell_type": "code",
   "execution_count": 15,
   "metadata": {},
   "outputs": [],
   "source": [
    "#ADVANCED FILE HANDLING\n",
    "#importing the OS module to rename file\n",
    "import os\n",
    "os.rename(\"me.txt\",\"she.txt\")"
   ]
  },
  {
   "cell_type": "code",
   "execution_count": 16,
   "metadata": {},
   "outputs": [
    {
     "data": {
      "text/plain": [
       "'practice/she.txt'"
      ]
     },
     "execution_count": 16,
     "metadata": {},
     "output_type": "execute_result"
    }
   ],
   "source": [
    "#to move text into a new folder\n",
    "import shutil\n",
    "shutil.move(\"she.txt\",\"practice/she.txt\")"
   ]
  },
  {
   "cell_type": "code",
   "execution_count": 17,
   "metadata": {},
   "outputs": [],
   "source": [
    "#deleting a text file from a folder\n",
    "import os\n",
    "os.remove(\"practice/she.txt\")"
   ]
  },
  {
   "cell_type": "code",
   "execution_count": 19,
   "metadata": {},
   "outputs": [
    {
     "name": "stdout",
     "output_type": "stream",
     "text": [
      "file does not exist\n"
     ]
    }
   ],
   "source": [
    "#checking if a text exist in a folder\n",
    "import os.path\n",
    "if os.path.exists(\"cy.txt\"):\n",
    "    print(\"file exists\")\n",
    "else:\n",
    "    print(\"file does not exist\")    "
   ]
  },
  {
   "cell_type": "code",
   "execution_count": 20,
   "metadata": {},
   "outputs": [],
   "source": [
    "#working with directories/folder\n",
    "os.mkdir(\"august\")"
   ]
  },
  {
   "cell_type": "code",
   "execution_count": 21,
   "metadata": {},
   "outputs": [],
   "source": [
    "#renaming a folder\n",
    "os.rename(\"august\",\"september\")"
   ]
  },
  {
   "cell_type": "code",
   "execution_count": 22,
   "metadata": {},
   "outputs": [],
   "source": [
    "#deleting a folder\n",
    "os.rmdir(\"practice\")"
   ]
  }
 ],
 "metadata": {
  "kernelspec": {
   "display_name": "Python 3",
   "language": "python",
   "name": "python3"
  },
  "language_info": {
   "codemirror_mode": {
    "name": "ipython",
    "version": 3
   },
   "file_extension": ".py",
   "mimetype": "text/x-python",
   "name": "python",
   "nbconvert_exporter": "python",
   "pygments_lexer": "ipython3",
   "version": "3.11.4"
  },
  "orig_nbformat": 4
 },
 "nbformat": 4,
 "nbformat_minor": 2
}
